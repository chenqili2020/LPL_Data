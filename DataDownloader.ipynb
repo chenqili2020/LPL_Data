{
  "nbformat": 4,
  "nbformat_minor": 0,
  "metadata": {
    "colab": {
      "name": "DataDownloader.ipynb",
      "provenance": [],
      "collapsed_sections": []
    },
    "kernelspec": {
      "name": "python3",
      "display_name": "Python 3"
    },
    "language_info": {
      "name": "python"
    }
  },
  "cells": [
    {
      "cell_type": "code",
      "execution_count": 1,
      "metadata": {
        "id": "oF3OqLMrpdNR"
      },
      "outputs": [],
      "source": [
        "import requests\n",
        "import pandas as pd\n",
        "from bs4 import BeautifulSoup"
      ]
    },
    {
      "cell_type": "code",
      "source": [
        "url = \"https://lpl.qq.com/esnew/data/rank.shtml?iGameId=167&sGameType=1,5\"\n"
      ],
      "metadata": {
        "id": "lF7F4cx1pgs5"
      },
      "execution_count": 2,
      "outputs": []
    },
    {
      "cell_type": "code",
      "source": [
        "df = pd.read_html(url)\n",
        "df[1]"
      ],
      "metadata": {
        "colab": {
          "base_uri": "https://localhost:8080/",
          "height": 197
        },
        "id": "o_g-o5guw7yF",
        "outputId": "52d14743-46fe-4484-ce0a-e0a6892b79ec"
      },
      "execution_count": 3,
      "outputs": [
        {
          "output_type": "execute_result",
          "data": {
            "text/plain": [
              "Empty DataFrame\n",
              "Columns: [排名, 队员, 位置, 出场次数, MVP次数, 总击杀(场均), 总助攻(场均), 总死亡(场均), KDA, 场均金钱, 场均补刀, 场均插眼, 场均排眼, 场均参团率, 场均对位经济差, 伤害占比, 经济占比]\n",
              "Index: []"
            ],
            "text/html": [
              "\n",
              "  <div id=\"df-7e023336-a782-4f09-95b6-9fd53cb32b03\">\n",
              "    <div class=\"colab-df-container\">\n",
              "      <div>\n",
              "<style scoped>\n",
              "    .dataframe tbody tr th:only-of-type {\n",
              "        vertical-align: middle;\n",
              "    }\n",
              "\n",
              "    .dataframe tbody tr th {\n",
              "        vertical-align: top;\n",
              "    }\n",
              "\n",
              "    .dataframe thead th {\n",
              "        text-align: right;\n",
              "    }\n",
              "</style>\n",
              "<table border=\"1\" class=\"dataframe\">\n",
              "  <thead>\n",
              "    <tr style=\"text-align: right;\">\n",
              "      <th></th>\n",
              "      <th>排名</th>\n",
              "      <th>队员</th>\n",
              "      <th>位置</th>\n",
              "      <th>出场次数</th>\n",
              "      <th>MVP次数</th>\n",
              "      <th>总击杀(场均)</th>\n",
              "      <th>总助攻(场均)</th>\n",
              "      <th>总死亡(场均)</th>\n",
              "      <th>KDA</th>\n",
              "      <th>场均金钱</th>\n",
              "      <th>场均补刀</th>\n",
              "      <th>场均插眼</th>\n",
              "      <th>场均排眼</th>\n",
              "      <th>场均参团率</th>\n",
              "      <th>场均对位经济差</th>\n",
              "      <th>伤害占比</th>\n",
              "      <th>经济占比</th>\n",
              "    </tr>\n",
              "  </thead>\n",
              "  <tbody>\n",
              "  </tbody>\n",
              "</table>\n",
              "</div>\n",
              "      <button class=\"colab-df-convert\" onclick=\"convertToInteractive('df-7e023336-a782-4f09-95b6-9fd53cb32b03')\"\n",
              "              title=\"Convert this dataframe to an interactive table.\"\n",
              "              style=\"display:none;\">\n",
              "        \n",
              "  <svg xmlns=\"http://www.w3.org/2000/svg\" height=\"24px\"viewBox=\"0 0 24 24\"\n",
              "       width=\"24px\">\n",
              "    <path d=\"M0 0h24v24H0V0z\" fill=\"none\"/>\n",
              "    <path d=\"M18.56 5.44l.94 2.06.94-2.06 2.06-.94-2.06-.94-.94-2.06-.94 2.06-2.06.94zm-11 1L8.5 8.5l.94-2.06 2.06-.94-2.06-.94L8.5 2.5l-.94 2.06-2.06.94zm10 10l.94 2.06.94-2.06 2.06-.94-2.06-.94-.94-2.06-.94 2.06-2.06.94z\"/><path d=\"M17.41 7.96l-1.37-1.37c-.4-.4-.92-.59-1.43-.59-.52 0-1.04.2-1.43.59L10.3 9.45l-7.72 7.72c-.78.78-.78 2.05 0 2.83L4 21.41c.39.39.9.59 1.41.59.51 0 1.02-.2 1.41-.59l7.78-7.78 2.81-2.81c.8-.78.8-2.07 0-2.86zM5.41 20L4 18.59l7.72-7.72 1.47 1.35L5.41 20z\"/>\n",
              "  </svg>\n",
              "      </button>\n",
              "      \n",
              "  <style>\n",
              "    .colab-df-container {\n",
              "      display:flex;\n",
              "      flex-wrap:wrap;\n",
              "      gap: 12px;\n",
              "    }\n",
              "\n",
              "    .colab-df-convert {\n",
              "      background-color: #E8F0FE;\n",
              "      border: none;\n",
              "      border-radius: 50%;\n",
              "      cursor: pointer;\n",
              "      display: none;\n",
              "      fill: #1967D2;\n",
              "      height: 32px;\n",
              "      padding: 0 0 0 0;\n",
              "      width: 32px;\n",
              "    }\n",
              "\n",
              "    .colab-df-convert:hover {\n",
              "      background-color: #E2EBFA;\n",
              "      box-shadow: 0px 1px 2px rgba(60, 64, 67, 0.3), 0px 1px 3px 1px rgba(60, 64, 67, 0.15);\n",
              "      fill: #174EA6;\n",
              "    }\n",
              "\n",
              "    [theme=dark] .colab-df-convert {\n",
              "      background-color: #3B4455;\n",
              "      fill: #D2E3FC;\n",
              "    }\n",
              "\n",
              "    [theme=dark] .colab-df-convert:hover {\n",
              "      background-color: #434B5C;\n",
              "      box-shadow: 0px 1px 3px 1px rgba(0, 0, 0, 0.15);\n",
              "      filter: drop-shadow(0px 1px 2px rgba(0, 0, 0, 0.3));\n",
              "      fill: #FFFFFF;\n",
              "    }\n",
              "  </style>\n",
              "\n",
              "      <script>\n",
              "        const buttonEl =\n",
              "          document.querySelector('#df-7e023336-a782-4f09-95b6-9fd53cb32b03 button.colab-df-convert');\n",
              "        buttonEl.style.display =\n",
              "          google.colab.kernel.accessAllowed ? 'block' : 'none';\n",
              "\n",
              "        async function convertToInteractive(key) {\n",
              "          const element = document.querySelector('#df-7e023336-a782-4f09-95b6-9fd53cb32b03');\n",
              "          const dataTable =\n",
              "            await google.colab.kernel.invokeFunction('convertToInteractive',\n",
              "                                                     [key], {});\n",
              "          if (!dataTable) return;\n",
              "\n",
              "          const docLinkHtml = 'Like what you see? Visit the ' +\n",
              "            '<a target=\"_blank\" href=https://colab.research.google.com/notebooks/data_table.ipynb>data table notebook</a>'\n",
              "            + ' to learn more about interactive tables.';\n",
              "          element.innerHTML = '';\n",
              "          dataTable['output_type'] = 'display_data';\n",
              "          await google.colab.output.renderOutput(dataTable, element);\n",
              "          const docLink = document.createElement('div');\n",
              "          docLink.innerHTML = docLinkHtml;\n",
              "          element.appendChild(docLink);\n",
              "        }\n",
              "      </script>\n",
              "    </div>\n",
              "  </div>\n",
              "  "
            ]
          },
          "metadata": {},
          "execution_count": 3
        }
      ]
    },
    {
      "cell_type": "code",
      "source": [
        "!pip install selenium"
      ],
      "metadata": {
        "colab": {
          "base_uri": "https://localhost:8080/",
          "height": 933
        },
        "id": "dDj77wR_zjqE",
        "outputId": "6231273d-f843-4046-c443-c9b17e63d24a"
      },
      "execution_count": 4,
      "outputs": [
        {
          "output_type": "stream",
          "name": "stdout",
          "text": [
            "Collecting selenium\n",
            "  Downloading selenium-4.1.3-py3-none-any.whl (968 kB)\n",
            "\u001b[?25l\r\u001b[K     |▍                               | 10 kB 14.7 MB/s eta 0:00:01\r\u001b[K     |▊                               | 20 kB 16.8 MB/s eta 0:00:01\r\u001b[K     |█                               | 30 kB 9.7 MB/s eta 0:00:01\r\u001b[K     |█▍                              | 40 kB 7.9 MB/s eta 0:00:01\r\u001b[K     |█▊                              | 51 kB 5.8 MB/s eta 0:00:01\r\u001b[K     |██                              | 61 kB 6.8 MB/s eta 0:00:01\r\u001b[K     |██▍                             | 71 kB 7.3 MB/s eta 0:00:01\r\u001b[K     |██▊                             | 81 kB 6.8 MB/s eta 0:00:01\r\u001b[K     |███                             | 92 kB 6.4 MB/s eta 0:00:01\r\u001b[K     |███▍                            | 102 kB 6.5 MB/s eta 0:00:01\r\u001b[K     |███▊                            | 112 kB 6.5 MB/s eta 0:00:01\r\u001b[K     |████                            | 122 kB 6.5 MB/s eta 0:00:01\r\u001b[K     |████▍                           | 133 kB 6.5 MB/s eta 0:00:01\r\u001b[K     |████▊                           | 143 kB 6.5 MB/s eta 0:00:01\r\u001b[K     |█████                           | 153 kB 6.5 MB/s eta 0:00:01\r\u001b[K     |█████▍                          | 163 kB 6.5 MB/s eta 0:00:01\r\u001b[K     |█████▊                          | 174 kB 6.5 MB/s eta 0:00:01\r\u001b[K     |██████                          | 184 kB 6.5 MB/s eta 0:00:01\r\u001b[K     |██████▍                         | 194 kB 6.5 MB/s eta 0:00:01\r\u001b[K     |██████▊                         | 204 kB 6.5 MB/s eta 0:00:01\r\u001b[K     |███████                         | 215 kB 6.5 MB/s eta 0:00:01\r\u001b[K     |███████▍                        | 225 kB 6.5 MB/s eta 0:00:01\r\u001b[K     |███████▉                        | 235 kB 6.5 MB/s eta 0:00:01\r\u001b[K     |████████▏                       | 245 kB 6.5 MB/s eta 0:00:01\r\u001b[K     |████████▌                       | 256 kB 6.5 MB/s eta 0:00:01\r\u001b[K     |████████▉                       | 266 kB 6.5 MB/s eta 0:00:01\r\u001b[K     |█████████▏                      | 276 kB 6.5 MB/s eta 0:00:01\r\u001b[K     |█████████▌                      | 286 kB 6.5 MB/s eta 0:00:01\r\u001b[K     |█████████▉                      | 296 kB 6.5 MB/s eta 0:00:01\r\u001b[K     |██████████▏                     | 307 kB 6.5 MB/s eta 0:00:01\r\u001b[K     |██████████▌                     | 317 kB 6.5 MB/s eta 0:00:01\r\u001b[K     |██████████▉                     | 327 kB 6.5 MB/s eta 0:00:01\r\u001b[K     |███████████▏                    | 337 kB 6.5 MB/s eta 0:00:01\r\u001b[K     |███████████▌                    | 348 kB 6.5 MB/s eta 0:00:01\r\u001b[K     |███████████▉                    | 358 kB 6.5 MB/s eta 0:00:01\r\u001b[K     |████████████▏                   | 368 kB 6.5 MB/s eta 0:00:01\r\u001b[K     |████████████▌                   | 378 kB 6.5 MB/s eta 0:00:01\r\u001b[K     |████████████▉                   | 389 kB 6.5 MB/s eta 0:00:01\r\u001b[K     |█████████████▏                  | 399 kB 6.5 MB/s eta 0:00:01\r\u001b[K     |█████████████▌                  | 409 kB 6.5 MB/s eta 0:00:01\r\u001b[K     |█████████████▉                  | 419 kB 6.5 MB/s eta 0:00:01\r\u001b[K     |██████████████▏                 | 430 kB 6.5 MB/s eta 0:00:01\r\u001b[K     |██████████████▌                 | 440 kB 6.5 MB/s eta 0:00:01\r\u001b[K     |██████████████▉                 | 450 kB 6.5 MB/s eta 0:00:01\r\u001b[K     |███████████████▏                | 460 kB 6.5 MB/s eta 0:00:01\r\u001b[K     |███████████████▋                | 471 kB 6.5 MB/s eta 0:00:01\r\u001b[K     |████████████████                | 481 kB 6.5 MB/s eta 0:00:01\r\u001b[K     |████████████████▎               | 491 kB 6.5 MB/s eta 0:00:01\r\u001b[K     |████████████████▋               | 501 kB 6.5 MB/s eta 0:00:01\r\u001b[K     |█████████████████               | 512 kB 6.5 MB/s eta 0:00:01\r\u001b[K     |█████████████████▎              | 522 kB 6.5 MB/s eta 0:00:01\r\u001b[K     |█████████████████▋              | 532 kB 6.5 MB/s eta 0:00:01\r\u001b[K     |██████████████████              | 542 kB 6.5 MB/s eta 0:00:01\r\u001b[K     |██████████████████▎             | 552 kB 6.5 MB/s eta 0:00:01\r\u001b[K     |██████████████████▋             | 563 kB 6.5 MB/s eta 0:00:01\r\u001b[K     |███████████████████             | 573 kB 6.5 MB/s eta 0:00:01\r\u001b[K     |███████████████████▎            | 583 kB 6.5 MB/s eta 0:00:01\r\u001b[K     |███████████████████▋            | 593 kB 6.5 MB/s eta 0:00:01\r\u001b[K     |████████████████████            | 604 kB 6.5 MB/s eta 0:00:01\r\u001b[K     |████████████████████▎           | 614 kB 6.5 MB/s eta 0:00:01\r\u001b[K     |████████████████████▋           | 624 kB 6.5 MB/s eta 0:00:01\r\u001b[K     |█████████████████████           | 634 kB 6.5 MB/s eta 0:00:01\r\u001b[K     |█████████████████████▎          | 645 kB 6.5 MB/s eta 0:00:01\r\u001b[K     |█████████████████████▋          | 655 kB 6.5 MB/s eta 0:00:01\r\u001b[K     |██████████████████████          | 665 kB 6.5 MB/s eta 0:00:01\r\u001b[K     |██████████████████████▎         | 675 kB 6.5 MB/s eta 0:00:01\r\u001b[K     |██████████████████████▋         | 686 kB 6.5 MB/s eta 0:00:01\r\u001b[K     |███████████████████████         | 696 kB 6.5 MB/s eta 0:00:01\r\u001b[K     |███████████████████████▍        | 706 kB 6.5 MB/s eta 0:00:01\r\u001b[K     |███████████████████████▊        | 716 kB 6.5 MB/s eta 0:00:01\r\u001b[K     |████████████████████████        | 727 kB 6.5 MB/s eta 0:00:01\r\u001b[K     |████████████████████████▍       | 737 kB 6.5 MB/s eta 0:00:01\r\u001b[K     |████████████████████████▊       | 747 kB 6.5 MB/s eta 0:00:01\r\u001b[K     |█████████████████████████       | 757 kB 6.5 MB/s eta 0:00:01\r\u001b[K     |█████████████████████████▍      | 768 kB 6.5 MB/s eta 0:00:01\r\u001b[K     |█████████████████████████▊      | 778 kB 6.5 MB/s eta 0:00:01\r\u001b[K     |██████████████████████████      | 788 kB 6.5 MB/s eta 0:00:01\r\u001b[K     |██████████████████████████▍     | 798 kB 6.5 MB/s eta 0:00:01\r\u001b[K     |██████████████████████████▊     | 808 kB 6.5 MB/s eta 0:00:01\r\u001b[K     |███████████████████████████     | 819 kB 6.5 MB/s eta 0:00:01\r\u001b[K     |███████████████████████████▍    | 829 kB 6.5 MB/s eta 0:00:01\r\u001b[K     |███████████████████████████▊    | 839 kB 6.5 MB/s eta 0:00:01\r\u001b[K     |████████████████████████████    | 849 kB 6.5 MB/s eta 0:00:01\r\u001b[K     |████████████████████████████▍   | 860 kB 6.5 MB/s eta 0:00:01\r\u001b[K     |████████████████████████████▊   | 870 kB 6.5 MB/s eta 0:00:01\r\u001b[K     |█████████████████████████████   | 880 kB 6.5 MB/s eta 0:00:01\r\u001b[K     |█████████████████████████████▍  | 890 kB 6.5 MB/s eta 0:00:01\r\u001b[K     |█████████████████████████████▊  | 901 kB 6.5 MB/s eta 0:00:01\r\u001b[K     |██████████████████████████████  | 911 kB 6.5 MB/s eta 0:00:01\r\u001b[K     |██████████████████████████████▍ | 921 kB 6.5 MB/s eta 0:00:01\r\u001b[K     |██████████████████████████████▉ | 931 kB 6.5 MB/s eta 0:00:01\r\u001b[K     |███████████████████████████████▏| 942 kB 6.5 MB/s eta 0:00:01\r\u001b[K     |███████████████████████████████▌| 952 kB 6.5 MB/s eta 0:00:01\r\u001b[K     |███████████████████████████████▉| 962 kB 6.5 MB/s eta 0:00:01\r\u001b[K     |████████████████████████████████| 968 kB 6.5 MB/s \n",
            "\u001b[?25hCollecting trio-websocket~=0.9\n",
            "  Downloading trio_websocket-0.9.2-py3-none-any.whl (16 kB)\n",
            "Collecting urllib3[secure,socks]~=1.26\n",
            "  Downloading urllib3-1.26.9-py2.py3-none-any.whl (138 kB)\n",
            "\u001b[K     |████████████████████████████████| 138 kB 35.0 MB/s \n",
            "\u001b[?25hCollecting trio~=0.17\n",
            "  Downloading trio-0.20.0-py3-none-any.whl (359 kB)\n",
            "\u001b[K     |████████████████████████████████| 359 kB 34.0 MB/s \n",
            "\u001b[?25hCollecting outcome\n",
            "  Downloading outcome-1.1.0-py2.py3-none-any.whl (9.7 kB)\n",
            "Requirement already satisfied: attrs>=19.2.0 in /usr/local/lib/python3.7/dist-packages (from trio~=0.17->selenium) (21.4.0)\n",
            "Requirement already satisfied: sortedcontainers in /usr/local/lib/python3.7/dist-packages (from trio~=0.17->selenium) (2.4.0)\n",
            "Requirement already satisfied: idna in /usr/local/lib/python3.7/dist-packages (from trio~=0.17->selenium) (2.10)\n",
            "Collecting sniffio\n",
            "  Downloading sniffio-1.2.0-py3-none-any.whl (10 kB)\n",
            "Collecting async-generator>=1.9\n",
            "  Downloading async_generator-1.10-py3-none-any.whl (18 kB)\n",
            "Collecting wsproto>=0.14\n",
            "  Downloading wsproto-1.1.0-py3-none-any.whl (24 kB)\n",
            "Requirement already satisfied: PySocks!=1.5.7,<2.0,>=1.5.6 in /usr/local/lib/python3.7/dist-packages (from urllib3[secure,socks]~=1.26->selenium) (1.7.1)\n",
            "Collecting cryptography>=1.3.4\n",
            "  Downloading cryptography-36.0.2-cp36-abi3-manylinux_2_24_x86_64.whl (3.6 MB)\n",
            "\u001b[K     |████████████████████████████████| 3.6 MB 42.1 MB/s \n",
            "\u001b[?25hRequirement already satisfied: certifi in /usr/local/lib/python3.7/dist-packages (from urllib3[secure,socks]~=1.26->selenium) (2021.10.8)\n",
            "Collecting pyOpenSSL>=0.14\n",
            "  Downloading pyOpenSSL-22.0.0-py2.py3-none-any.whl (55 kB)\n",
            "\u001b[K     |████████████████████████████████| 55 kB 3.0 MB/s \n",
            "\u001b[?25hRequirement already satisfied: cffi>=1.12 in /usr/local/lib/python3.7/dist-packages (from cryptography>=1.3.4->urllib3[secure,socks]~=1.26->selenium) (1.15.0)\n",
            "Requirement already satisfied: pycparser in /usr/local/lib/python3.7/dist-packages (from cffi>=1.12->cryptography>=1.3.4->urllib3[secure,socks]~=1.26->selenium) (2.21)\n",
            "Collecting h11<1,>=0.9.0\n",
            "  Downloading h11-0.13.0-py3-none-any.whl (58 kB)\n",
            "\u001b[K     |████████████████████████████████| 58 kB 4.8 MB/s \n",
            "\u001b[?25hRequirement already satisfied: typing-extensions in /usr/local/lib/python3.7/dist-packages (from h11<1,>=0.9.0->wsproto>=0.14->trio-websocket~=0.9->selenium) (3.10.0.2)\n",
            "Installing collected packages: sniffio, outcome, h11, cryptography, async-generator, wsproto, urllib3, trio, pyOpenSSL, trio-websocket, selenium\n",
            "  Attempting uninstall: urllib3\n",
            "    Found existing installation: urllib3 1.24.3\n",
            "    Uninstalling urllib3-1.24.3:\n",
            "      Successfully uninstalled urllib3-1.24.3\n",
            "\u001b[31mERROR: pip's dependency resolver does not currently take into account all the packages that are installed. This behaviour is the source of the following dependency conflicts.\n",
            "requests 2.23.0 requires urllib3!=1.25.0,!=1.25.1,<1.26,>=1.21.1, but you have urllib3 1.26.9 which is incompatible.\n",
            "datascience 0.10.6 requires folium==0.2.1, but you have folium 0.8.3 which is incompatible.\u001b[0m\n",
            "Successfully installed async-generator-1.10 cryptography-36.0.2 h11-0.13.0 outcome-1.1.0 pyOpenSSL-22.0.0 selenium-4.1.3 sniffio-1.2.0 trio-0.20.0 trio-websocket-0.9.2 urllib3-1.26.9 wsproto-1.1.0\n"
          ]
        },
        {
          "output_type": "display_data",
          "data": {
            "application/vnd.colab-display-data+json": {
              "pip_warning": {
                "packages": [
                  "urllib3"
                ]
              }
            }
          },
          "metadata": {}
        }
      ]
    },
    {
      "cell_type": "code",
      "source": [
        "from selenium.webdriver import Chrome"
      ],
      "metadata": {
        "id": "_fy_kRWr2c5C"
      },
      "execution_count": 5,
      "outputs": []
    },
    {
      "cell_type": "code",
      "source": [
        "!pip install selenium\n",
        "!apt-get update # to update ubuntu to correctly run apt install\n",
        "!apt install chromium-chromedriver\n",
        "!cp /usr/lib/chromium-browser/chromedriver /usr/bin\n"
      ],
      "metadata": {
        "colab": {
          "base_uri": "https://localhost:8080/"
        },
        "id": "UvHELA3h2nR2",
        "outputId": "19b83200-71ce-4f23-8b37-68d75c17ad30"
      },
      "execution_count": 6,
      "outputs": [
        {
          "output_type": "stream",
          "name": "stdout",
          "text": [
            "Requirement already satisfied: selenium in /usr/local/lib/python3.7/dist-packages (4.1.3)\n",
            "Requirement already satisfied: urllib3[secure,socks]~=1.26 in /usr/local/lib/python3.7/dist-packages (from selenium) (1.26.9)\n",
            "Requirement already satisfied: trio-websocket~=0.9 in /usr/local/lib/python3.7/dist-packages (from selenium) (0.9.2)\n",
            "Requirement already satisfied: trio~=0.17 in /usr/local/lib/python3.7/dist-packages (from selenium) (0.20.0)\n",
            "Requirement already satisfied: outcome in /usr/local/lib/python3.7/dist-packages (from trio~=0.17->selenium) (1.1.0)\n",
            "Requirement already satisfied: idna in /usr/local/lib/python3.7/dist-packages (from trio~=0.17->selenium) (2.10)\n",
            "Requirement already satisfied: sniffio in /usr/local/lib/python3.7/dist-packages (from trio~=0.17->selenium) (1.2.0)\n",
            "Requirement already satisfied: sortedcontainers in /usr/local/lib/python3.7/dist-packages (from trio~=0.17->selenium) (2.4.0)\n",
            "Requirement already satisfied: async-generator>=1.9 in /usr/local/lib/python3.7/dist-packages (from trio~=0.17->selenium) (1.10)\n",
            "Requirement already satisfied: attrs>=19.2.0 in /usr/local/lib/python3.7/dist-packages (from trio~=0.17->selenium) (21.4.0)\n",
            "Requirement already satisfied: wsproto>=0.14 in /usr/local/lib/python3.7/dist-packages (from trio-websocket~=0.9->selenium) (1.1.0)\n",
            "Requirement already satisfied: pyOpenSSL>=0.14 in /usr/local/lib/python3.7/dist-packages (from urllib3[secure,socks]~=1.26->selenium) (22.0.0)\n",
            "Requirement already satisfied: cryptography>=1.3.4 in /usr/local/lib/python3.7/dist-packages (from urllib3[secure,socks]~=1.26->selenium) (36.0.2)\n",
            "Requirement already satisfied: certifi in /usr/local/lib/python3.7/dist-packages (from urllib3[secure,socks]~=1.26->selenium) (2021.10.8)\n",
            "Requirement already satisfied: PySocks!=1.5.7,<2.0,>=1.5.6 in /usr/local/lib/python3.7/dist-packages (from urllib3[secure,socks]~=1.26->selenium) (1.7.1)\n",
            "Requirement already satisfied: cffi>=1.12 in /usr/local/lib/python3.7/dist-packages (from cryptography>=1.3.4->urllib3[secure,socks]~=1.26->selenium) (1.15.0)\n",
            "Requirement already satisfied: pycparser in /usr/local/lib/python3.7/dist-packages (from cffi>=1.12->cryptography>=1.3.4->urllib3[secure,socks]~=1.26->selenium) (2.21)\n",
            "Requirement already satisfied: h11<1,>=0.9.0 in /usr/local/lib/python3.7/dist-packages (from wsproto>=0.14->trio-websocket~=0.9->selenium) (0.13.0)\n",
            "Requirement already satisfied: typing-extensions in /usr/local/lib/python3.7/dist-packages (from h11<1,>=0.9.0->wsproto>=0.14->trio-websocket~=0.9->selenium) (3.10.0.2)\n",
            "Get:1 https://cloud.r-project.org/bin/linux/ubuntu bionic-cran40/ InRelease [3,626 B]\n",
            "Ign:2 https://developer.download.nvidia.com/compute/cuda/repos/ubuntu1804/x86_64  InRelease\n",
            "Hit:3 http://archive.ubuntu.com/ubuntu bionic InRelease\n",
            "Ign:4 https://developer.download.nvidia.com/compute/machine-learning/repos/ubuntu1804/x86_64  InRelease\n",
            "Get:5 https://developer.download.nvidia.com/compute/cuda/repos/ubuntu1804/x86_64  Release [696 B]\n",
            "Hit:6 https://developer.download.nvidia.com/compute/machine-learning/repos/ubuntu1804/x86_64  Release\n",
            "Get:7 https://developer.download.nvidia.com/compute/cuda/repos/ubuntu1804/x86_64  Release.gpg [836 B]\n",
            "Get:8 http://archive.ubuntu.com/ubuntu bionic-updates InRelease [88.7 kB]\n",
            "Get:9 http://security.ubuntu.com/ubuntu bionic-security InRelease [88.7 kB]\n",
            "Get:10 http://ppa.launchpad.net/c2d4u.team/c2d4u4.0+/ubuntu bionic InRelease [15.9 kB]\n",
            "Get:11 http://archive.ubuntu.com/ubuntu bionic-backports InRelease [74.6 kB]\n",
            "Get:12 https://cloud.r-project.org/bin/linux/ubuntu bionic-cran40/ Packages [80.4 kB]\n",
            "Hit:13 http://ppa.launchpad.net/cran/libgit2/ubuntu bionic InRelease\n",
            "Get:14 http://ppa.launchpad.net/deadsnakes/ppa/ubuntu bionic InRelease [15.9 kB]\n",
            "Hit:15 http://ppa.launchpad.net/graphics-drivers/ppa/ubuntu bionic InRelease\n",
            "Get:17 https://developer.download.nvidia.com/compute/cuda/repos/ubuntu1804/x86_64  Packages [933 kB]\n",
            "Get:18 http://archive.ubuntu.com/ubuntu bionic-updates/restricted amd64 Packages [893 kB]\n",
            "Get:19 http://archive.ubuntu.com/ubuntu bionic-updates/main amd64 Packages [3,098 kB]\n",
            "Get:20 http://archive.ubuntu.com/ubuntu bionic-updates/universe amd64 Packages [2,262 kB]\n",
            "Get:21 http://ppa.launchpad.net/c2d4u.team/c2d4u4.0+/ubuntu bionic/main Sources [1,829 kB]\n",
            "Get:22 http://archive.ubuntu.com/ubuntu bionic-updates/multiverse amd64 Packages [29.8 kB]\n",
            "Get:23 http://security.ubuntu.com/ubuntu bionic-security/restricted amd64 Packages [860 kB]\n",
            "Get:24 http://ppa.launchpad.net/c2d4u.team/c2d4u4.0+/ubuntu bionic/main amd64 Packages [937 kB]\n",
            "Get:25 http://security.ubuntu.com/ubuntu bionic-security/main amd64 Packages [2,660 kB]\n",
            "Get:26 http://security.ubuntu.com/ubuntu bionic-security/universe amd64 Packages [1,484 kB]\n",
            "Get:27 http://ppa.launchpad.net/deadsnakes/ppa/ubuntu bionic/main amd64 Packages [45.2 kB]\n",
            "Fetched 15.4 MB in 6s (2,652 kB/s)\n",
            "Reading package lists... Done\n",
            "Reading package lists... Done\n",
            "Building dependency tree       \n",
            "Reading state information... Done\n",
            "The following additional packages will be installed:\n",
            "  chromium-browser chromium-browser-l10n chromium-codecs-ffmpeg-extra\n",
            "Suggested packages:\n",
            "  webaccounts-chromium-extension unity-chromium-extension\n",
            "The following NEW packages will be installed:\n",
            "  chromium-browser chromium-browser-l10n chromium-chromedriver\n",
            "  chromium-codecs-ffmpeg-extra\n",
            "0 upgraded, 4 newly installed, 0 to remove and 70 not upgraded.\n",
            "Need to get 88.3 MB of archives.\n",
            "After this operation, 294 MB of additional disk space will be used.\n",
            "Get:1 http://archive.ubuntu.com/ubuntu bionic-updates/universe amd64 chromium-codecs-ffmpeg-extra amd64 99.0.4844.51-0ubuntu0.18.04.1 [1,143 kB]\n",
            "Get:2 http://archive.ubuntu.com/ubuntu bionic-updates/universe amd64 chromium-browser amd64 99.0.4844.51-0ubuntu0.18.04.1 [77.6 MB]\n",
            "Get:3 http://archive.ubuntu.com/ubuntu bionic-updates/universe amd64 chromium-browser-l10n all 99.0.4844.51-0ubuntu0.18.04.1 [4,388 kB]\n",
            "Get:4 http://archive.ubuntu.com/ubuntu bionic-updates/universe amd64 chromium-chromedriver amd64 99.0.4844.51-0ubuntu0.18.04.1 [5,092 kB]\n",
            "Fetched 88.3 MB in 6s (15.7 MB/s)\n",
            "Selecting previously unselected package chromium-codecs-ffmpeg-extra.\n",
            "(Reading database ... 155335 files and directories currently installed.)\n",
            "Preparing to unpack .../chromium-codecs-ffmpeg-extra_99.0.4844.51-0ubuntu0.18.04.1_amd64.deb ...\n",
            "Unpacking chromium-codecs-ffmpeg-extra (99.0.4844.51-0ubuntu0.18.04.1) ...\n",
            "Selecting previously unselected package chromium-browser.\n",
            "Preparing to unpack .../chromium-browser_99.0.4844.51-0ubuntu0.18.04.1_amd64.deb ...\n",
            "Unpacking chromium-browser (99.0.4844.51-0ubuntu0.18.04.1) ...\n",
            "Selecting previously unselected package chromium-browser-l10n.\n",
            "Preparing to unpack .../chromium-browser-l10n_99.0.4844.51-0ubuntu0.18.04.1_all.deb ...\n",
            "Unpacking chromium-browser-l10n (99.0.4844.51-0ubuntu0.18.04.1) ...\n",
            "Selecting previously unselected package chromium-chromedriver.\n",
            "Preparing to unpack .../chromium-chromedriver_99.0.4844.51-0ubuntu0.18.04.1_amd64.deb ...\n",
            "Unpacking chromium-chromedriver (99.0.4844.51-0ubuntu0.18.04.1) ...\n",
            "Setting up chromium-codecs-ffmpeg-extra (99.0.4844.51-0ubuntu0.18.04.1) ...\n",
            "Setting up chromium-browser (99.0.4844.51-0ubuntu0.18.04.1) ...\n",
            "update-alternatives: using /usr/bin/chromium-browser to provide /usr/bin/x-www-browser (x-www-browser) in auto mode\n",
            "update-alternatives: using /usr/bin/chromium-browser to provide /usr/bin/gnome-www-browser (gnome-www-browser) in auto mode\n",
            "Setting up chromium-chromedriver (99.0.4844.51-0ubuntu0.18.04.1) ...\n",
            "Setting up chromium-browser-l10n (99.0.4844.51-0ubuntu0.18.04.1) ...\n",
            "Processing triggers for man-db (2.8.3-2ubuntu0.1) ...\n",
            "Processing triggers for hicolor-icon-theme (0.17-2) ...\n",
            "Processing triggers for mime-support (3.60ubuntu1) ...\n",
            "Processing triggers for libc-bin (2.27-3ubuntu1.3) ...\n",
            "/sbin/ldconfig.real: /usr/local/lib/python3.7/dist-packages/ideep4py/lib/libmkldnn.so.0 is not a symbolic link\n",
            "\n",
            "cp: '/usr/lib/chromium-browser/chromedriver' and '/usr/bin/chromedriver' are the same file\n"
          ]
        }
      ]
    },
    {
      "cell_type": "code",
      "source": [
        "import sys\n",
        "sys.path.insert(0,'/usr/lib/chromium-browser/chromedriver')\n",
        "\n",
        "from selenium import webdriver\n",
        "from selenium.webdriver.common.action_chains import ActionChains\n",
        "chrome_options = webdriver.ChromeOptions()\n",
        "#chrome_options.add_argument('--headless')\n",
        "#chrome_options.add_argument('--no-sandbox')\n",
        "#chrome_options.add_argument('--disable-dev-shm-usage')\n"
      ],
      "metadata": {
        "colab": {
          "base_uri": "https://localhost:8080/"
        },
        "id": "rL9gmTPJR_T9",
        "outputId": "5aa07b93-1015-4ea8-8134-62369626a5d5"
      },
      "execution_count": 25,
      "outputs": [
        {
          "output_type": "stream",
          "name": "stderr",
          "text": [
            "/usr/local/lib/python3.7/dist-packages/ipykernel_launcher.py:10: DeprecationWarning: use options instead of chrome_options\n",
            "  # Remove the CWD from sys.path while we load stuff.\n"
          ]
        }
      ]
    },
    {
      "cell_type": "code",
      "source": [
        "wd = webdriver.Chrome('chromedriver',chrome_options=chrome_options)\n",
        "wd.get(\"https://lpl.qq.com/esnew/data/rank.shtml?iGameId=167&sGameType=1,5\")"
      ],
      "metadata": {
        "colab": {
          "base_uri": "https://localhost:8080/"
        },
        "id": "5hKxF_8e9HDM",
        "outputId": "9aa600e2-3cff-49e2-8d62-df54c56aba32"
      },
      "execution_count": 31,
      "outputs": [
        {
          "output_type": "stream",
          "name": "stderr",
          "text": [
            "/usr/local/lib/python3.7/dist-packages/ipykernel_launcher.py:1: DeprecationWarning: use options instead of chrome_options\n",
            "  \"\"\"Entry point for launching an IPython kernel.\n"
          ]
        }
      ]
    },
    {
      "cell_type": "code",
      "source": [
        "def write_file(name,rows):\n",
        "    with open(name, 'w') as f:\n",
        "        for i in rows:\n",
        "            f.write(str(i.text).replace(\"\\n\", \" \"))\n",
        "            f.write('\\n') \n",
        "    f.close()\n"
      ],
      "metadata": {
        "id": "HhqaFlIvRKZC"
      },
      "execution_count": 32,
      "outputs": []
    },
    {
      "cell_type": "code",
      "source": [
        "\n",
        "rows = wd.find_elements_by_tag_name('tr')\n",
        "write_file(\"Team_data.txt\",rows)\n",
        "wd.quit()"
      ],
      "metadata": {
        "colab": {
          "base_uri": "https://localhost:8080/"
        },
        "id": "d8dIYQOs4brG",
        "outputId": "057aee37-eddc-4e38-f7bd-7b384458c18c"
      },
      "execution_count": 33,
      "outputs": [
        {
          "output_type": "stream",
          "name": "stderr",
          "text": [
            "/usr/local/lib/python3.7/dist-packages/ipykernel_launcher.py:2: DeprecationWarning: find_elements_by_tag_name is deprecated. Please use find_elements(by=By.TAG_NAME, value=name) instead\n",
            "  \n"
          ]
        }
      ]
    },
    {
      "cell_type": "code",
      "source": [
        "wd = webdriver.Chrome('chromedriver',chrome_options=chrome_options)\n",
        "wd.get(\"https://lpl.qq.com/esnew/data/rank.shtml?iGameId=167&sGameType=1,5\")\n",
        "\n",
        "button = wd.find_element_by_link_text(\"个人数据\")\n",
        "button.click()\n",
        "\n",
        "rows = wd.find_elements_by_tag_name('tr')\n",
        "write_file(\"Player_data.txt\",rows)\n",
        "\n"
      ],
      "metadata": {
        "colab": {
          "base_uri": "https://localhost:8080/"
        },
        "id": "HRYu6ROm43EM",
        "outputId": "97a568a8-729e-487b-b5f9-330664f152e0"
      },
      "execution_count": 34,
      "outputs": [
        {
          "output_type": "stream",
          "name": "stderr",
          "text": [
            "/usr/local/lib/python3.7/dist-packages/ipykernel_launcher.py:1: DeprecationWarning: use options instead of chrome_options\n",
            "  \"\"\"Entry point for launching an IPython kernel.\n",
            "/usr/local/lib/python3.7/dist-packages/ipykernel_launcher.py:4: DeprecationWarning: find_element_by_link_text is deprecated. Please use find_element(by=By.LINK_TEXT, value=link_text) instead\n",
            "  after removing the cwd from sys.path.\n",
            "/usr/local/lib/python3.7/dist-packages/ipykernel_launcher.py:7: DeprecationWarning: find_elements_by_tag_name is deprecated. Please use find_elements(by=By.TAG_NAME, value=name) instead\n",
            "  import sys\n"
          ]
        }
      ]
    },
    {
      "cell_type": "code",
      "source": [
        ""
      ],
      "metadata": {
        "id": "0Hb7Viox7nas"
      },
      "execution_count": null,
      "outputs": []
    },
    {
      "cell_type": "code",
      "source": [
        "wd = webdriver.Chrome('chromedriver',chrome_options=chrome_options)\n",
        "wd.get(\"https://lpl.qq.com/esnew/data/rank.shtml?iGameId=167&sGameType=1,5\")\n",
        "button = wd.find_element_by_link_text(\"英雄数据\")\n",
        "button.click()\n",
        "\n",
        "\n",
        "rows = wd.find_elements_by_tag_name('tr')\n",
        "write_file(\"Champion_data.txt\",rows)"
      ],
      "metadata": {
        "colab": {
          "base_uri": "https://localhost:8080/"
        },
        "id": "RA7rlGDk8AcN",
        "outputId": "1fd90c4a-f932-49c4-fbe4-bd65ef818b42"
      },
      "execution_count": 35,
      "outputs": [
        {
          "output_type": "stream",
          "name": "stderr",
          "text": [
            "/usr/local/lib/python3.7/dist-packages/ipykernel_launcher.py:1: DeprecationWarning: use options instead of chrome_options\n",
            "  \"\"\"Entry point for launching an IPython kernel.\n",
            "/usr/local/lib/python3.7/dist-packages/ipykernel_launcher.py:3: DeprecationWarning: find_element_by_link_text is deprecated. Please use find_element(by=By.LINK_TEXT, value=link_text) instead\n",
            "  This is separate from the ipykernel package so we can avoid doing imports until\n",
            "/usr/local/lib/python3.7/dist-packages/ipykernel_launcher.py:7: DeprecationWarning: find_elements_by_tag_name is deprecated. Please use find_elements(by=By.TAG_NAME, value=name) instead\n",
            "  import sys\n"
          ]
        }
      ]
    },
    {
      "cell_type": "code",
      "source": [
        ""
      ],
      "metadata": {
        "id": "vmiGuxzS8neP"
      },
      "execution_count": null,
      "outputs": []
    }
  ]
}